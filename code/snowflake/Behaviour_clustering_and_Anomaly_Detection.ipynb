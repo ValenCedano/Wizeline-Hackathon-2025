{
 "metadata": {
  "kernelspec": {
   "display_name": "Streamlit Notebook",
   "name": "streamlit"
  },
  "lastEditStatus": {
   "notebookId": "lzuuo2nz4y7hzskce43i",
   "authorId": "1389364136756",
   "authorName": "CMATTEOGR",
   "authorEmail": "cesarematteor@gmail.com",
   "sessionId": "5c8b51fb-fbfb-4871-80b0-0e9a2fc49827",
   "lastEditTime": 1746389907997
  }
 },
 "nbformat_minor": 5,
 "nbformat": 4,
 "cells": [
  {
   "cell_type": "code",
   "id": "3775908f-ca36-4846-8f38-5adca39217f2",
   "metadata": {
    "language": "python",
    "name": "cell1"
   },
   "source": "# Import python packages\nimport streamlit as st\nimport pandas as pd\n# Make sure 'count' is included in the import statement\nfrom snowflake.snowpark.functions import col, count, lit, sum\nimport pandas as pd\nfrom sklearn.cluster import KMeans\nfrom sklearn.preprocessing import StandardScaler\nimport matplotlib.pyplot as plt\nfrom sklearn.ensemble import IsolationForest\n\n\n# We can also use Snowpark for our analyses!\nfrom snowflake.snowpark.context import get_active_session\nsession = get_active_session()\n",
   "execution_count": null,
   "outputs": []
  },
  {
   "cell_type": "code",
   "id": "01bccbca-e265-461b-aa6d-c2271bb88693",
   "metadata": {
    "language": "python",
    "name": "cell2",
    "codeCollapsed": false
   },
   "outputs": [],
   "source": "import warnings\nwarnings.filterwarnings(\n    \"ignore\",\n    message=\"Could not find the number of physical cores for the following reason:*\",\n    category=UserWarning,\n    module=\"joblib\"\n)\n",
   "execution_count": null
  },
  {
   "cell_type": "code",
   "id": "be579e4d-54c1-4410-9414-5a8c5a862427",
   "metadata": {
    "language": "python",
    "name": "cell9",
    "codeCollapsed": false
   },
   "outputs": [],
   "source": "# query github evets wide\ngh_events_wide_table_name = \"GITHUB_EVENTS_WIDE\"\ngh_events_wide_df = session.table(gh_events_wide_table_name)\nglobal_events_table_name = \"GLOBAL_EVENTS\"\nglobal_events_df = session.table(global_events_table_name)\nactor_table_name = \"ACTOR\"\nactor_df = session.table(actor_table_name)\nrepo_table_name = \"REPO\"\nrepo_df = session.table(repo_table_name)\norg_table_name = \"ORG\"\norg_df = session.table(org_table_name)\n# concatenate all the dfs in a list to generalize data analysisimport warnings\nnames_fds = [(gh_events_wide_table_name, gh_events_wide_df), \n       (global_events_table_name, global_events_df),\n       (actor_table_name, actor_df),\n       (repo_table_name, repo_df),\n       (org_table_name, org_df)\n      ]",
   "execution_count": null
  },
  {
   "cell_type": "markdown",
   "id": "3923324f-7dee-44a7-acd5-fa5f15341bf5",
   "metadata": {
    "name": "cell10",
    "collapsed": false
   },
   "source": "Data exploration"
  },
  {
   "cell_type": "code",
   "id": "879fe142-2986-43e4-a2f4-ebc411e77d25",
   "metadata": {
    "language": "python",
    "name": "cell11",
    "codeCollapsed": false
   },
   "outputs": [],
   "source": "# for each df print desc\nfor name, df in names_fds:\n    print(f\"Description: {name} table:\")\n    print(df.describe().show())\n    print('columns/features schema:')\n    print(df.printSchema())\n    print('number of rows:')\n    print(df.count())\n\n    print('===================================================')\n    ",
   "execution_count": null
  },
  {
   "cell_type": "markdown",
   "id": "86deedd7-5893-4829-9804-322a030b7bb7",
   "metadata": {
    "name": "cell13",
    "collapsed": false
   },
   "source": "It seems GLOBAL_EVENTS and ACTOR are the most informative data. Focus on them:\n- GLOBAL_EVENTS:\n    - ID: Event id. non-informative\n    - TYPE: closed vocabulary, define the action. \n    - ACTOR_ID: Used to merge with Actor.\n    - REPO_ID: non-informative in this context.\n    - ORG_ID: Id, could be used as a boolean when is missing.\n    - PUBLIC: All are TRUE, non-informative.\n    - CREATED_AT: Datetime, we could use the day of the week o hour.\n\n- ACTOR\n    - ID: used to connect with GLOBAL_EVENTS.\n    - LOGIN: custom name\n    - GRAVATAR_ID: empty, no-informative.\n    - URL: All distinct, non-informative.\n    - AVATAR_URL: All distinct, non-informative"
  },
  {
   "cell_type": "markdown",
   "id": "db038d9a-9b9c-434a-b5b5-36451562d257",
   "metadata": {
    "name": "cell5",
    "collapsed": false
   },
   "source": "Preprocess"
  },
  {
   "cell_type": "code",
   "id": "a121e23e-5325-48c4-85cc-46c5ae720e96",
   "metadata": {
    "language": "python",
    "name": "cell8"
   },
   "outputs": [],
   "source": "# merge the df global events and actor\nactor_event_df = global_events_df.join(actor_df, global_events_df[\"actor_id\"] == actor_df[\"id\"], how=\"left\")\nactor_event_df.to_pandas().head()",
   "execution_count": null
  },
  {
   "cell_type": "code",
   "id": "dca63960-a79c-4712-99dd-6ea9a5089d39",
   "metadata": {
    "language": "python",
    "name": "cell12"
   },
   "outputs": [],
   "source": "# Day of the week, hour\n# count event types\n# org boolean\nactor_counts_df = actor_event_df.group_by(\"ACTOR_ID\", \"TYPE\").agg(count(lit(1)).alias(\"EVENT_COUNT\"))\nactor_counts_df.to_pandas().head(30)",
   "execution_count": null
  },
  {
   "cell_type": "code",
   "id": "9e011447-6c8e-433b-91cd-6be970e6e58c",
   "metadata": {
    "language": "python",
    "name": "cell15",
    "codeCollapsed": false
   },
   "outputs": [],
   "source": "# get the unique tpyes \ndistinct_types = [row[\"TYPE\"] for row in actor_counts_df.select(\"TYPE\").distinct().collect()]\n# Pivot by TYPE the table\nactor_counts_df = actor_counts_df.pivot(\n    pivot_col = \"TYPE\",        \n    values = distinct_types    \n).agg(\n    sum(\"EVENT_COUNT\")         \n)\nactor_counts_df.to_pandas().head(30)",
   "execution_count": null
  },
  {
   "cell_type": "code",
   "id": "edee45a0-c527-41ed-9889-b4c85a67abb3",
   "metadata": {
    "language": "python",
    "name": "cell14",
    "codeCollapsed": false
   },
   "outputs": [],
   "source": "# fill miisng values with 0\nactor_counts_df = actor_counts_df.na.fill(0)\nactor_counts_df.to_pandas().head(30)",
   "execution_count": null
  },
  {
   "cell_type": "code",
   "id": "d267c594-dbe7-4e7f-99fc-759cc6fc4b14",
   "metadata": {
    "language": "python",
    "name": "cell16",
    "codeCollapsed": false
   },
   "outputs": [],
   "source": "# remove ACTOR_ID column, not longer needed\nactor_counts_df.drop('ACTOR_ID')",
   "execution_count": null
  },
  {
   "cell_type": "code",
   "id": "8f9d80b6-c070-42cd-a501-d6890da6751a",
   "metadata": {
    "language": "python",
    "name": "cell19"
   },
   "outputs": [],
   "source": "# sample the data \nactor_counts_df_pandas_df = actor_counts_df.to_pandas()\nactor_counts_df_pandas_df = actor_counts_df_pandas_df.sample(200000)",
   "execution_count": null
  },
  {
   "cell_type": "code",
   "id": "0368acb4-b07d-4e77-963b-ca7cb36d51c6",
   "metadata": {
    "language": "python",
    "name": "cell17",
    "codeCollapsed": false
   },
   "outputs": [],
   "source": "# Apply min max normalization, KMEANs and DBSCAN are sensitive different scales\nscaler = StandardScaler()\nactor_counts_df_pandas_scaled = scaler.fit_transform(actor_counts_df_pandas_df)\nactor_counts_df_pandas_scaled",
   "execution_count": null
  },
  {
   "cell_type": "markdown",
   "id": "5d39f751-9cc5-417a-8b39-2178b3983ea5",
   "metadata": {
    "name": "cell6",
    "collapsed": false
   },
   "source": "Train"
  },
  {
   "cell_type": "code",
   "id": "833b9231-f5ff-40d5-b9b0-2d00fa9e8d98",
   "metadata": {
    "language": "python",
    "name": "cell18"
   },
   "outputs": [],
   "source": "kmeans = KMeans(n_clusters=8, random_state=42, n_init='auto') # n_init='auto' is default in newer sklearn\nkmeans.fit(actor_counts_df_pandas_scaled)\ncluster_labels = kmeans.labels_",
   "execution_count": null
  },
  {
   "cell_type": "code",
   "id": "2538b829-5fed-46f8-bdc2-643be56d58d7",
   "metadata": {
    "language": "python",
    "name": "cell3"
   },
   "outputs": [],
   "source": "cluster_labels",
   "execution_count": null
  },
  {
   "cell_type": "markdown",
   "id": "587aa849-4187-4526-99f3-c66156af8297",
   "metadata": {
    "name": "cell7",
    "collapsed": false
   },
   "source": "Evaluation"
  },
  {
   "cell_type": "code",
   "id": "089b40a4-3625-4d12-9d82-f7d9a98beaba",
   "metadata": {
    "language": "python",
    "name": "cell4"
   },
   "outputs": [],
   "source": "# 4. Calculate Inertia for range of k\ninertia_values = {}\nk_range = range(2, 50)\n\nfor k in k_range:\n    kmeans = KMeans(\n        n_clusters=k,\n        random_state=42,\n        n_init='auto'\n    )\n    kmeans.fit(actor_counts_df_pandas_scaled)\n    inertia_values[k] = kmeans.inertia_\n",
   "execution_count": null
  },
  {
   "cell_type": "code",
   "id": "66e3c787-f372-4f9e-988d-b2c13bcaa780",
   "metadata": {
    "language": "python",
    "name": "cell20"
   },
   "outputs": [],
   "source": "k_values = sorted(inertia_values.keys())\ninertia_vals = [inertia_values[k] for k in k_values] \n\nplt.figure(figsize=(10, 6)) \n\n\nplt.plot(\n    k_values,\n    inertia_vals,\n    marker='o',         \n    linestyle='-',      \n    color='b'           \n)\n\n\nplt.xlabel(\"Number of Clusters (k)\")\nplt.ylabel(\"Inertia\")\nplt.title(\"Elbow Method for Optimal k\")\n\nplt.xticks(k_values) \nplt.grid(True, linestyle='--', alpha=0.7) \n\nplt.show()",
   "execution_count": null
  },
  {
   "cell_type": "code",
   "id": "a2ac30d5-340e-4a39-a1d0-59e5aebb3c79",
   "metadata": {
    "language": "python",
    "name": "cell21",
    "codeCollapsed": false
   },
   "outputs": [],
   "source": "",
   "execution_count": null
  },
  {
   "cell_type": "markdown",
   "id": "77ae72fb-ab0c-41d0-8734-49d58da137e0",
   "metadata": {
    "name": "cell22",
    "collapsed": false
   },
   "source": "Train Outlier Detection\n\n\nUsed to indentify bots/smap based on number of actions "
  },
  {
   "cell_type": "code",
   "id": "7145a111-523d-4150-b743-9c032a2849fe",
   "metadata": {
    "language": "python",
    "name": "cell23"
   },
   "outputs": [],
   "source": "iso_forest = IsolationForest(n_estimators=200, contamination='auto', random_state=42)\niso_forest.fit(actor_counts_df_pandas_scaled)\n\n# Predict anomalies (-1 for outliers, 1 for inliers)\noutliers = iso_forest.predict(actor_counts_df_pandas_scaled)\n\n# Create masks for inliers\niso_outliers_mask = outliers == -1\n\n# Remove outliers from train and test sets (X and y)\noutliers_index = actor_counts_df_pandas_df.loc[iso_outliers_mask]",
   "execution_count": null
  },
  {
   "cell_type": "code",
   "id": "e8466946-2ee7-4c03-b92e-5a267366c14b",
   "metadata": {
    "language": "python",
    "name": "cell26",
    "codeCollapsed": false
   },
   "outputs": [],
   "source": "\nprint(f\"there are: {outliers_index.shape[0]} outliers\")",
   "execution_count": null
  },
  {
   "cell_type": "code",
   "id": "68db7041-9b86-4318-bb48-e52dea6bb744",
   "metadata": {
    "language": "python",
    "name": "cell24",
    "codeCollapsed": false
   },
   "outputs": [],
   "source": "outliers_index",
   "execution_count": null
  }
 ]
}