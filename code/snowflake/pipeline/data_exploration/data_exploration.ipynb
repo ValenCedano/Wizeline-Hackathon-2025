{
 "metadata": {
  "kernelspec": {
   "display_name": "Streamlit Notebook",
   "name": "streamlit"
  },
  "lastEditStatus": {
   "notebookId": "lzuuo2nz4y7hzskce43i",
   "authorId": "1389364136756",
   "authorName": "CMATTEOGR",
   "authorEmail": "cesarematteor@gmail.com",
   "sessionId": "5c8b51fb-fbfb-4871-80b0-0e9a2fc49827",
   "lastEditTime": 1746389907997
  }
 },
 "nbformat_minor": 5,
 "nbformat": 4,
 "cells": [
  {
   "cell_type": "code",
   "id": "3775908f-ca36-4846-8f38-5adca39217f2",
   "metadata": {
    "language": "python",
    "name": "cell1"
   },
   "source": "# Import python packages\nimport streamlit as st\nimport pandas as pd\n# Make sure 'count' is included in the import statement\nfrom snowflake.snowpark.functions import col, count, lit, sum\nimport pandas as pd\nfrom sklearn.cluster import KMeans\nfrom sklearn.preprocessing import StandardScaler\nimport matplotlib.pyplot as plt\nfrom sklearn.ensemble import IsolationForest\n\n\n# We can also use Snowpark for our analyses!\nfrom snowflake.snowpark.context import get_active_session\nsession = get_active_session()\n",
   "execution_count": null,
   "outputs": []
  },
  {
   "cell_type": "code",
   "id": "01bccbca-e265-461b-aa6d-c2271bb88693",
   "metadata": {
    "language": "python",
    "name": "cell2",
    "codeCollapsed": false
   },
   "outputs": [],
   "source": "import warnings\nwarnings.filterwarnings(\n    \"ignore\",\n    message=\"Could not find the number of physical cores for the following reason:*\",\n    category=UserWarning,\n    module=\"joblib\"\n)\n",
   "execution_count": null
  },
  {
   "cell_type": "code",
   "id": "be579e4d-54c1-4410-9414-5a8c5a862427",
   "metadata": {
    "language": "python",
    "name": "cell9",
    "codeCollapsed": false
   },
   "outputs": [],
   "source": "# query github evets wide\ngh_events_wide_table_name = \"GITHUB_EVENTS_WIDE\"\ngh_events_wide_df = session.table(gh_events_wide_table_name)\nglobal_events_table_name = \"GLOBAL_EVENTS\"\nglobal_events_df = session.table(global_events_table_name)\nactor_table_name = \"ACTOR\"\nactor_df = session.table(actor_table_name)\nrepo_table_name = \"REPO\"\nrepo_df = session.table(repo_table_name)\norg_table_name = \"ORG\"\norg_df = session.table(org_table_name)\n# concatenate all the dfs in a list to generalize data analysisimport warnings\nnames_fds = [(gh_events_wide_table_name, gh_events_wide_df), \n       (global_events_table_name, global_events_df),\n       (actor_table_name, actor_df),\n       (repo_table_name, repo_df),\n       (org_table_name, org_df)\n      ]",
   "execution_count": null
  },
  {
   "cell_type": "markdown",
   "id": "3923324f-7dee-44a7-acd5-fa5f15341bf5",
   "metadata": {
    "name": "cell10",
    "collapsed": false
   },
   "source": "Data exploration"
  },
  {
   "cell_type": "code",
   "id": "879fe142-2986-43e4-a2f4-ebc411e77d25",
   "metadata": {
    "language": "python",
    "name": "cell11",
    "codeCollapsed": false
   },
   "outputs": [],
   "source": [
    "# for each df print desc\n",
    "for name, df in names_fds:\n",
    "    print(f\"Description: {name} table:\")\n",
    "    print(df.describe().show())\n",
    "    print('columns/features schema:')\n",
    "    print(df.printSchema())\n",
    "    print('number of rows:')\n",
    "    print(df.count())\n",
    "\n",
    "    print('===================================================')\n"
   ],
   "execution_count": null
  },
  {
   "metadata": {},
   "cell_type": "markdown",
   "source": [
    "It seems GLOBAL_EVENTS and ACTOR are the most informative data. Focus on them:\n",
    "- GLOBAL_EVENTS:\n",
    "    - ID: Event id. non-informative\n",
    "    - TYPE: closed vocabulary, define the action.\n",
    "    - ACTOR_ID: Used to merge with Actor.\n",
    "    - REPO_ID: non-informative in this context.\n",
    "    - ORG_ID: Id, could be used as a boolean when is missing.\n",
    "    - PUBLIC: All are TRUE, non-informative.\n",
    "    - CREATED_AT: Datetime, we could use the day of the week o hour.\n",
    "\n",
    "- ACTOR\n",
    "    - ID: used to connect with GLOBAL_EVENTS.\n",
    "    - LOGIN: custom name\n",
    "    - GRAVATAR_ID: empty, no-informative.\n",
    "    - URL: All distinct, non-informative.\n",
    "    - AVATAR_URL: All distinct, non-informative"
   ],
   "id": "86deedd7-5893-4829-9804-322a030b7bb7"
  }
 ]
}
